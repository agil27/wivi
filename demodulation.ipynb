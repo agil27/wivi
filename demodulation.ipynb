{
 "cells": [
  {
   "cell_type": "code",
   "execution_count": 51,
   "metadata": {},
   "outputs": [],
   "source": [
    "import numpy as np\n",
    "import pandas as pd\n",
    "import matplotlib.pyplot as plt\n",
    "%matplotlib inline\n",
    "import seaborn as sns\n",
    "sns.set_style()\n",
    "import wave\n",
    "from scipy import signal\n",
    "from scipy.fftpack import fft, ifft"
   ]
  },
  {
   "cell_type": "code",
   "execution_count": 52,
   "metadata": {},
   "outputs": [],
   "source": [
    "path = '../exp/data'\n",
    "dis = [20, 40, 80, 100]\n",
    "db = [-1, 15, 30, 40]\n",
    "repeat = list(range(5))"
   ]
  },
  {
   "cell_type": "code",
   "execution_count": 53,
   "metadata": {},
   "outputs": [],
   "source": [
    "def load_wav(name):\n",
    "    with wave.open(name, 'rb') as f:\n",
    "        fs = f.getframerate()\n",
    "        nframes = f.getnframes()\n",
    "        str_data = f.readframes(nframes)\n",
    "        nchannels = f.getnchannels()\n",
    "        print(len(str_data))\n",
    "        \n",
    "    wave_data = np.frombuffer(str_data, dtype=np.int16)\n",
    "    print(wave_data.shape)\n",
    "    if nchannels == 2:\n",
    "        wave_data = wave_data.reshape(2, -1)\n",
    "        wave_data = wave_data.mean(axis=0)\n",
    "    return fs, wave_data\n",
    "\n",
    "def load_all(path, dis, db, repeat):\n",
    "    for di in dis:\n",
    "        for d in db:\n",
    "            for r in repeat:\n",
    "                name = r'{path}/{dis}cm_{db}db_{repeat}.wav'.format(**{\n",
    "                    'path': path,\n",
    "                    'dis': di,\n",
    "                    'db': d,\n",
    "                    'repeat': r\n",
    "                })\n",
    "                load_wav(name)"
   ]
  },
  {
   "cell_type": "code",
   "execution_count": 300,
   "metadata": {},
   "outputs": [
    {
     "name": "stdout",
     "output_type": "stream",
     "text": [
      "364540\n",
      "(182270,)\n",
      "[ -388.   -275.5  -294.5   806.5   818.5  1226.   1245.    -59.    -67.5\n",
      " -1793.  -1787.  -1717.5 -1690.5   592.    573.   2742.5  2724.   2349.5\n",
      "  2364.   -149.   -156.5 -2143.  -2159.  -1778.5 -1780.5   122.    121.\n",
      "  1322.   1331.    870.    883.   -136.   -143.   -118.   -124.    869.\n",
      "   888.   1068.   1073.   -361.   -384.  -1955.5 -1978.  -1803.5 -1796.\n",
      "   145.5   193.   1853.   1872.5  1471.   1440.5  -395.   -408.5 -1555.\n",
      " -1531.5  -961.5  -944.5   271.5   250.5   591.5   562.5   -46.5   -46.\n",
      "  -546.   -527.   -295.5  -289.5   187.    175.5   246.5   242.5    16.\n",
      "    17.   -117.   -124.    -40.    -37.5   122.5   126.5   160.    144.5\n",
      "    28.5    32.5  -131.5  -101.   -181.   -171.    -96.   -107.5    78.\n",
      "    65.5   317.    311.5   434.5   422.    162.5   165.   -400.   -386.\n",
      "  -820.5]\n"
     ]
    },
    {
     "data": {
      "text/plain": [
       "[<matplotlib.lines.Line2D at 0x1bc7267b160>]"
      ]
     },
     "execution_count": 300,
     "metadata": {},
     "output_type": "execute_result"
    },
    {
     "data": {
      "image/png": "[encoded data removed]",
      "text/plain": [
       "<Figure size 432x288 with 1 Axes>"
      ]
     },
     "metadata": {
      "needs_background": "light"
     },
     "output_type": "display_data"
    }
   ],
   "source": [
    "#load_all(path, dis, db, repeat)\n",
    "fs, data = load_wav('./i.wav')\n",
    "print(data[1200:1300])\n",
    "plt.plot(data)"
   ]
  },
  {
   "cell_type": "code",
   "execution_count": 301,
   "metadata": {},
   "outputs": [],
   "source": [
    "def fda(x, floor, ceil, fs):\n",
    "    print(fs)\n",
    "    b, a = signal.butter(8, [2 * floor / fs, 2 * ceil / fs], 'bandpass')\n",
    "    data = signal.filtfilt(b, a, x)\n",
    "    print(data.shape)\n",
    "    return data"
   ]
  },
  {
   "cell_type": "code",
   "execution_count": 302,
   "metadata": {},
   "outputs": [
    {
     "name": "stdout",
     "output_type": "stream",
     "text": [
      "48000\n",
      "(91135,)\n"
     ]
    },
    {
     "data": {
      "text/plain": [
       "[<matplotlib.lines.Line2D at 0x1bc726ca6a0>]"
      ]
     },
     "execution_count": 302,
     "metadata": {},
     "output_type": "execute_result"
    },
    {
     "data": {
      "image/png": "[encoded data removed]",
      "text/plain": [
       "<Figure size 432x288 with 1 Axes>"
      ]
     },
     "metadata": {
      "needs_background": "light"
     },
     "output_type": "display_data"
    }
   ],
   "source": [
    "filted = fda(data[:], 17500, 18500, fs)\n",
    "plt.plot(data)\n",
    "#plt.plot(filted[:1000])"
   ]
  },
  {
   "cell_type": "code",
   "execution_count": 303,
   "metadata": {},
   "outputs": [],
   "source": [
    "def dfft(data, f, fs):\n",
    "    n = data.shape[0]\n",
    "    window = 100\n",
    "    impulse_fft = np.zeros((n, 1))\n",
    "    for i in range(n - window):\n",
    "        y = fft(data[i:i + window])\n",
    "        y = np.abs(y)\n",
    "        index_impulse = round(f / fs * window)\n",
    "        impulse_fft[i] = np.max(y[index_impulse - 2:index_impulse + 3])\n",
    "    return impulse_fft"
   ]
  },
  {
   "cell_type": "code",
   "execution_count": 304,
   "metadata": {},
   "outputs": [
    {
     "data": {
      "text/plain": [
       "[<matplotlib.lines.Line2D at 0x1bc75683d68>]"
      ]
     },
     "execution_count": 304,
     "metadata": {},
     "output_type": "execute_result"
    },
    {
     "data": {
      "image/png": "[encoded data removed]",
      "text/plain": [
       "<Figure size 432x288 with 1 Axes>"
      ]
     },
     "metadata": {
      "needs_background": "light"
     },
     "output_type": "display_data"
    }
   ],
   "source": [
    "impulse = dfft(filted, 18000, fs)\n",
    "plt.plot(impulse[:10000])"
   ]
  },
  {
   "cell_type": "code",
   "execution_count": 305,
   "metadata": {},
   "outputs": [],
   "source": [
    "def smooth(a, window):\n",
    "    a = a.squeeze()\n",
    "    out = np.convolve(a, np.ones(window, dtype=int),'valid') / window\n",
    "    r = np.arange(1, window - 1, 2)\n",
    "    start = np.cumsum(a[:window - 1])[::2] / r\n",
    "    stop = (np.cumsum(a[:-window:-1])[::2] / r)[::-1]\n",
    "    return np.concatenate((start, out, stop))"
   ]
  },
  {
   "cell_type": "code",
   "execution_count": 306,
   "metadata": {},
   "outputs": [
    {
     "data": {
      "text/plain": [
       "[<matplotlib.lines.Line2D at 0x1bc756ed240>]"
      ]
     },
     "execution_count": 306,
     "metadata": {},
     "output_type": "execute_result"
    },
    {
     "data": {
      "image/png": "[encoded data removed]",
      "text/plain": [
       "<Figure size 432x288 with 1 Axes>"
      ]
     },
     "metadata": {
      "needs_background": "light"
     },
     "output_type": "display_data"
    }
   ],
   "source": [
    "#sm_data = smooth(impulse, 5)\n",
    "sm_data = smooth(data, 5)\n",
    "plt.plot(sm_data[:])"
   ]
  },
  {
   "cell_type": "code",
   "execution_count": 307,
   "metadata": {},
   "outputs": [],
   "source": [
    "def find_max(data, half_window):\n",
    "    data = data / np.max(data)\n",
    "    n = data.shape[0]\n",
    "    position_impulse = []\n",
    "    for i in range(half_window, n - half_window):\n",
    "        if data[i] > 0.3 and data[i] == np.max(data[i - half_window:i + half_window + 1]):\n",
    "            position_impulse.append(i)\n",
    "    return position_impulse"
   ]
  },
  {
   "cell_type": "code",
   "execution_count": 308,
   "metadata": {},
   "outputs": [
    {
     "name": "stdout",
     "output_type": "stream",
     "text": [
      "[613, 1013, 1216, 2013, 2353, 2625, 3424, 4225, 4813, 4825, 5424, 5616, 5880, 6425, 7025, 7413, 8024, 9024, 9824, 9945, 10425, 10824, 11117, 11412, 11624, 12013, 12413, 60560, 61160, 61960, 62560, 63560, 64160, 64960, 65760, 66148, 66760, 67760, 68360, 68960, 69560, 70360, 70748, 71348, 71502, 71749, 72560, 72949, 73360, 73960, 74559, 75160, 75759, 76052, 76348, 77160, 78160, 78302, 78960, 79548, 80360, 81160, 81760, 82359, 82552, 83360, 83960, 84760, 85348, 86160, 86748, 86952, 87359, 87552, 87959, 88252, 88960, 89360, 89552, 90160, 90760]\n"
     ]
    }
   ],
   "source": [
    "impulse_pos = find_max(sm_data, 100)\n",
    "print(impulse_pos)"
   ]
  },
  {
   "cell_type": "code",
   "execution_count": 309,
   "metadata": {},
   "outputs": [],
   "source": [
    "def demod(pos):\n",
    "    N = len(pos)\n",
    "    d = 100\n",
    "    eps = 45\n",
    "    message_2 = [0] * ((N - 1) * 2)\n",
    "    for i in range(N - 1):\n",
    "        delta = pos[i + 1] - pos[i] - 100\n",
    "        for mul in range(4):\n",
    "            if abs(delta - d * (mul + 1)) < eps:\n",
    "                message_2[i * 2], message_2[i * 2 + 1] = mul >> 1, mul & 1;\n",
    "                break;\n",
    "        if delta - d * 4 > eps:\n",
    "            message_2[i * 2], message_2[i * 2 + 1] = 1, 1\n",
    "    return message_2"
   ]
  },
  {
   "cell_type": "code",
   "execution_count": 310,
   "metadata": {
    "scrolled": false
   },
   "outputs": [
    {
     "name": "stdout",
     "output_type": "stream",
     "text": [
      "[1, 0, 0, 0, 1, 1, 0, 1, 0, 1, 1, 1, 1, 1, 1, 1, 0, 0, 1, 1, 0, 0, 0, 1, 0, 0, 1, 1, 1, 0, 1, 1, 1, 1, 1, 1, 0, 0, 1, 1, 1, 0, 0, 1, 0, 1, 0, 0, 1, 0, 1, 0, 1, 1, 1, 1, 1, 1, 1, 1, 1, 1, 1, 1, 1, 1, 1, 1, 1, 0, 1, 1, 1, 1, 1, 1, 1, 1, 1, 1, 1, 1, 1, 0, 1, 1, 0, 0, 0, 0, 1, 1, 1, 0, 1, 0, 1, 1, 1, 1, 1, 1, 1, 1, 0, 1, 0, 1, 1, 1, 1, 1, 0, 0, 1, 1, 1, 1, 1, 1, 1, 1, 1, 1, 1, 1, 0, 0, 1, 1, 1, 1, 1, 1, 1, 1, 1, 1, 1, 1, 0, 0, 1, 0, 0, 0, 1, 0, 0, 1, 1, 1, 1, 0, 0, 0, 1, 1, 1, 1]\n",
      "160\n"
     ]
    }
   ],
   "source": [
    "arr = demod(impulse_pos)\n",
    "print(arr)\n",
    "print(len(arr))"
   ]
  },
  {
   "cell_type": "code",
   "execution_count": 311,
   "metadata": {},
   "outputs": [
    {
     "name": "stdout",
     "output_type": "stream",
     "text": [
      "1;ó¯ÿûÿì:ÿ_?üÿò'\n"
     ]
    }
   ],
   "source": [
    "def decode(arr):\n",
    "    bin_res = ''.join(map(str, arr))\n",
    "    res = ''.join([chr(int(bin_res[8*i:8*i+8], 2)) for i in range(len(bin_res) // 8)])\n",
    "    return res\n",
    "res = decode(arr)\n",
    "print(res)"
   ]
  },
  {
   "cell_type": "code",
   "execution_count": 63,
   "metadata": {},
   "outputs": [
    {
     "data": {
      "text/plain": [
       "'0101010001110011011010010110111001100111011010000111010101100001001000000101010101101110011010010111011001100101011100100111001101101001011101000111100100100000'"
      ]
     },
     "execution_count": 63,
     "metadata": {},
     "output_type": "execute_result"
    }
   ],
   "source": [
    "real='0101010001110011011010010110111001100111011010000111010101100001001000000101010101101110011010010111011001100101011100100111001101101001011101000111100100100000'\n",
    "real"
   ]
  },
  {
   "cell_type": "code",
   "execution_count": null,
   "metadata": {},
   "outputs": [],
   "source": []
  },
  {
   "cell_type": "code",
   "execution_count": 119,
   "metadata": {},
   "outputs": [],
   "source": [
    "import os"
   ]
  },
  {
   "cell_type": "code",
   "execution_count": 125,
   "metadata": {},
   "outputs": [
    {
     "data": {
      "text/plain": [
       "['20191117_160148.m4a',\n",
       " '20191117_160152.m4a',\n",
       " '20191117_160157.m4a',\n",
       " '20191117_160202.m4a',\n",
       " '20191117_160206.m4a',\n",
       " '20191117_160229.m4a',\n",
       " '20191117_160247.m4a',\n",
       " '20191117_160251.m4a',\n",
       " '20191117_160256.m4a',\n",
       " '20191117_160300.m4a',\n",
       " '20191117_160324.m4a',\n",
       " '20191117_160329.m4a',\n",
       " '20191117_160333.m4a',\n",
       " '20191117_160338.m4a',\n",
       " '20191117_160342.m4a',\n",
       " '20191117_160440.m4a',\n",
       " '20191117_160445.m4a',\n",
       " '20191117_160449.m4a',\n",
       " '20191117_160518.m4a',\n",
       " '20191117_160547.m4a',\n",
       " '20191117_160621.m4a',\n",
       " '20191117_160625.m4a',\n",
       " '20191117_160630.m4a',\n",
       " '20191117_160634.m4a',\n",
       " '20191117_160639.m4a',\n",
       " '20191117_161205.m4a',\n",
       " '20191117_161251.m4a',\n",
       " '20191117_161256.m4a',\n",
       " '20191117_161300.m4a',\n",
       " '20191117_161305.m4a',\n",
       " '20191117_161330.m4a',\n",
       " '20191117_161335.m4a',\n",
       " '20191117_161339.m4a',\n",
       " '20191117_161343.m4a',\n",
       " '20191117_161348.m4a',\n",
       " '20191117_161402.m4a',\n",
       " '20191117_161407.m4a',\n",
       " '20191117_161411.m4a',\n",
       " '20191117_161432.m4a',\n",
       " '20191117_161436.m4a',\n",
       " '20191117_161452.m4a',\n",
       " '20191117_161500.m4a',\n",
       " '20191117_161505.m4a',\n",
       " '20191117_161510.m4a',\n",
       " '20191117_161514.m4a',\n",
       " '20191117_161850.m4a',\n",
       " '20191117_161854.m4a',\n",
       " '20191117_161858.m4a',\n",
       " '20191117_161902.m4a',\n",
       " '20191117_161907.m4a',\n",
       " '20191117_162136.m4a',\n",
       " '20191117_162141.m4a',\n",
       " '20191117_162146.m4a',\n",
       " '20191117_162150.m4a',\n",
       " '20191117_162154.m4a',\n",
       " '20191117_162208.m4a',\n",
       " '20191117_162212.m4a',\n",
       " '20191117_162217.m4a',\n",
       " '20191117_162221.m4a',\n",
       " '20191117_162226.m4a',\n",
       " '20191117_162235.m4a',\n",
       " '20191117_162238.m4a',\n",
       " '20191117_162243.m4a',\n",
       " '20191117_162247.m4a',\n",
       " '20191117_162251.m4a',\n",
       " '20191117_162305.m4a',\n",
       " '20191117_162309.m4a',\n",
       " '20191117_162313.m4a',\n",
       " '20191117_162318.m4a',\n",
       " '20191117_162323.m4a',\n",
       " '20191117_162343.m4a',\n",
       " '20191117_162347.m4a',\n",
       " '20191117_162351.m4a',\n",
       " '20191117_162356.m4a',\n",
       " '20191117_162400.m4a',\n",
       " '20191117_162851.m4a',\n",
       " '20191117_162855.m4a',\n",
       " '20191117_162900.m4a',\n",
       " '20191117_162904.m4a',\n",
       " '20191117_162926.m4a',\n",
       " '20191117_162944.m4a',\n",
       " '20191117_162954.m4a',\n",
       " '20191117_162959.m4a',\n",
       " '20191117_163003.m4a',\n",
       " '20191117_163007.m4a',\n",
       " '20191117_163021.m4a',\n",
       " '20191117_163025.m4a',\n",
       " '20191117_163030.m4a',\n",
       " '20191117_163034.m4a',\n",
       " '20191117_163038.m4a',\n",
       " '20191117_163052.m4a',\n",
       " '20191117_163056.m4a',\n",
       " '20191117_163101.m4a',\n",
       " '20191117_163105.m4a',\n",
       " '20191117_163110.m4a',\n",
       " '20191117_163124.m4a',\n",
       " '20191117_163132.m4a',\n",
       " '20191117_163137.m4a',\n",
       " '20191117_163141.m4a',\n",
       " '20191117_163146.m4a',\n",
       " 'data']"
      ]
     },
     "execution_count": 125,
     "metadata": {},
     "output_type": "execute_result"
    }
   ],
   "source": [
    "os.listdir('../exp')"
   ]
  },
  {
   "cell_type": "code",
   "execution_count": null,
   "metadata": {},
   "outputs": [],
   "source": []
  }
 ],
 "metadata": {
  "kernelspec": {
   "display_name": "Python 3",
   "language": "python",
   "name": "python3"
  },
  "language_info": {
   "codemirror_mode": {
    "name": "ipython",
    "version": 3
   },
   "file_extension": ".py",
   "mimetype": "text/x-python",
   "name": "python",
   "nbconvert_exporter": "python",
   "pygments_lexer": "ipython3",
   "version": "3.7.3"
  }
 },
 "nbformat": 4,
 "nbformat_minor": 2
}
